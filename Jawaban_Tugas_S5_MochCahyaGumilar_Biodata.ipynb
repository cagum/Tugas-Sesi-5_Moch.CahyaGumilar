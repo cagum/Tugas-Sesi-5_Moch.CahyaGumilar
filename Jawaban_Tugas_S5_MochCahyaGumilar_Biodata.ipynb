{
 "cells": [
  {
   "cell_type": "code",
   "execution_count": 6,
   "id": "1866292f",
   "metadata": {},
   "outputs": [
    {
     "name": "stdout",
     "output_type": "stream",
     "text": [
      "NAMA : Mochammad Cahya Gumilar\n",
      "NIM = 20220040116\n",
      "Fakultas = Universitas Nusa Putra\n",
      "Jurusan = Teknik Informatika\n",
      "Kota asal = Sukabumi\n",
      "Alamat = Jl. Karang Tengah, Selamanjah, Batununggal, Cibadak-Sukabumi\n",
      "\n",
      "# Biodata Mahasiswa #\n",
      "==================\n",
      "Nama:  Mochammad Cahya Gumilar\n",
      "NIM:  20220040116\n",
      "Fakultas:  Universitas Nusa Putra\n",
      "Jurusan:  Teknik Informatika\n",
      "Kota Asal:  Sukabumi\n",
      "Alamat:  Jl. Karang Tengah, Selamanjah, Batununggal, Cibadak-Sukabumi\n"
     ]
    }
   ],
   "source": [
    "nama = (input('NAMA : '))\n",
    "nim = (input('NIM = '))\n",
    "fakultas = (input('Fakultas = '))\n",
    "jurusan = (input('Jurusan = '))\n",
    "kota = (input('Kota asal = '))\n",
    "alamat = (input('Alamat = '))\n",
    "\n",
    "print()\n",
    "\n",
    "print('# Biodata Mahasiswa #')\n",
    "print('==================')\n",
    "print('Nama: ',nama)\n",
    "print('NIM: ',nim)\n",
    "print('Fakultas: ',fakultas)\n",
    "print('Jurusan: ',jurusan)\n",
    "print('Kota Asal: ',kota)\n",
    "print('Alamat: ',alamat)\n"
   ]
  },
  {
   "cell_type": "code",
   "execution_count": null,
   "id": "0f84446d",
   "metadata": {},
   "outputs": [],
   "source": []
  }
 ],
 "metadata": {
  "kernelspec": {
   "display_name": "Python 3 (ipykernel)",
   "language": "python",
   "name": "python3"
  },
  "language_info": {
   "codemirror_mode": {
    "name": "ipython",
    "version": 3
   },
   "file_extension": ".py",
   "mimetype": "text/x-python",
   "name": "python",
   "nbconvert_exporter": "python",
   "pygments_lexer": "ipython3",
   "version": "3.9.12"
  }
 },
 "nbformat": 4,
 "nbformat_minor": 5
}
