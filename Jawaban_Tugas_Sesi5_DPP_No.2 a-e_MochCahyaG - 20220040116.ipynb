{
 "cells": [
  {
   "cell_type": "code",
   "execution_count": 8,
   "id": "881ef8ce",
   "metadata": {},
   "outputs": [
    {
     "name": "stdout",
     "output_type": "stream",
     "text": [
      "putra nusa\n"
     ]
    }
   ],
   "source": [
    "#a. putra nusa\n",
    "kalimat = 'UNIVERSITAS NUSA PUTRA SUKABUMI'\n",
    "\n",
    "a = kalimat.lower()\n",
    "\n",
    "b = kalimat[12:22]\n",
    "\n",
    "print('{1} {0}'.format('nusa', 'putra'))\n"
   ]
  },
  {
   "cell_type": "code",
   "execution_count": 21,
   "id": "46c64517",
   "metadata": {},
   "outputs": [
    {
     "name": "stdout",
     "output_type": "stream",
     "text": [
      "NIVERSITAS NSA PTRA SKABMI\n"
     ]
    }
   ],
   "source": [
    "#b.NIVERSITAS NSA PTRA SKABUMI\n",
    "\n",
    "kalimat = 'UNIVERSITAS NUSA PUTRA SUKABUMI'\n",
    "removeU = kalimat.replace(\"U\", \"\")\n",
    "\n",
    "print(removeU)"
   ]
  },
  {
   "cell_type": "code",
   "execution_count": 1,
   "id": "bb3e4896",
   "metadata": {},
   "outputs": [
    {
     "name": "stdout",
     "output_type": "stream",
     "text": [
      "SUKABUMI PUTRA NUSA UNIVERSITAS\n"
     ]
    }
   ],
   "source": [
    "#c. SUKABUMI PUTRA NUSA UNIVERSITAS\n",
    "\n",
    "print('{3} {2} {1} {0}'.format('UNIVERSITAS', 'NUSA', 'PUTRA', 'SUKABUMI'))"
   ]
  },
  {
   "cell_type": "code",
   "execution_count": 3,
   "id": "6e6a9f9e",
   "metadata": {},
   "outputs": [
    {
     "name": "stdout",
     "output_type": "stream",
     "text": [
      "UNPS\n"
     ]
    }
   ],
   "source": [
    "#D. UNPS\n",
    "\n",
    "kalimat = 'UNIVERSITAS NUSA PUTRA SUKABUMIM'\n",
    "w = kalimat[0]\n",
    "x = kalimat[12]\n",
    "y = kalimat[17]\n",
    "z = kalimat[23]\n",
    "a = w + x + y + z\n",
    "\n",
    "print(a)"
   ]
  },
  {
   "cell_type": "code",
   "execution_count": 7,
   "id": "3ffff495",
   "metadata": {},
   "outputs": [
    {
     "name": "stdout",
     "output_type": "stream",
     "text": [
      "TAS SAPU BUMI\n"
     ]
    }
   ],
   "source": [
    "#e. TAS SAPU BUMI\n",
    "\n",
    "kalimat = 'UNIVERSITAS NUSA PUTRA SUKABUMIM'\n",
    "w = kalimat[8:11]\n",
    "x = kalimat[14:19]\n",
    "y = kalimat[27:31]\n",
    "z = x.replace(' ', '')\n",
    "\n",
    "print(w, z, y)"
   ]
  },
  {
   "cell_type": "code",
   "execution_count": null,
   "id": "c6e1b01b",
   "metadata": {},
   "outputs": [],
   "source": []
  }
 ],
 "metadata": {
  "kernelspec": {
   "display_name": "Python 3 (ipykernel)",
   "language": "python",
   "name": "python3"
  },
  "language_info": {
   "codemirror_mode": {
    "name": "ipython",
    "version": 3
   },
   "file_extension": ".py",
   "mimetype": "text/x-python",
   "name": "python",
   "nbconvert_exporter": "python",
   "pygments_lexer": "ipython3",
   "version": "3.9.12"
  }
 },
 "nbformat": 4,
 "nbformat_minor": 5
}
